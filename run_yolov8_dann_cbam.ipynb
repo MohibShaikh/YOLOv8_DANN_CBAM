{
 "cells": [
  {
   "cell_type": "markdown",
   "metadata": {},
   "source": [
    "# YOLOv8_DANN_CBAM: Domain-Adaptive Object Detection\n",
    "\n",
    "This notebook provides step-by-step instructions for running the domain-adaptive YOLOv8 model with CBAM and DANN."
   ]
  },
  {
   "cell_type": "markdown",
   "metadata": {},
   "source": [
    "## 1. Clone the Repository\n",
    "\n",
    "First, clone the repository from GitHub:"
   ]
  },
  {
   "cell_type": "code",
   "metadata": {},
   "source": [
    "!git clone https://github.com/MohibShaikh/YOLOv8_DANN_CBAM.git\n",
    "%cd YOLOv8_DANN_CBAM"
   ],
   "execution_count": null,
   "outputs": []
  },
  {
   "cell_type": "markdown",
   "metadata": {},
   "source": [
    "## 2. Install Dependencies\n",
    "\n",
    "Install the required packages:"
   ]
  },
  {
   "cell_type": "code",
   "metadata": {},
   "source": [
    "!pip install -r requirements.txt"
   ],
   "execution_count": null,
   "outputs": []
  },
  {
   "cell_type": "markdown",
   "metadata": {},
   "source": [
    "## 3. Download Pretrained Weights\n",
    "\n",
    "Download the YOLOv8n pretrained weights:"
   ]
  },
  {
   "cell_type": "code",
   "metadata": {},
   "source": [
    "!wget https://github.com/ultralytics/assets/releases/download/v0.0.0/yolov8n.pt"
   ],
   "execution_count": null,
   "outputs": []
  },
  {
   "cell_type": "markdown",
   "metadata": {},
   "source": [
    "## 4. Prepare Your Dataset\n",
    "\n",
    "Your dataset should be organized as follows:\n",
    "```\n",
    "dataset/\n",
    "├── train/\n",
    "│   ├── images/\n",
    "│   └── labels/\n",
    "├── valid/\n",
    "│   ├── images/\n",
    "│   └── labels/\n",
    "└── test/\n",
    "    ├── images/\n",
    "    └── labels/\n",
    "```\n",
    "\n",
    "Run the dataset preparation script:"
   ]
  },
  {
   "cell_type": "code",
   "metadata": {},
   "source": [
    "!python prepare_dataset.py"
   ],
   "execution_count": null,
   "outputs": []
  },
  {
   "cell_type": "markdown",
   "metadata": {},
   "source": [
    "## 5. Training\n",
    "\n",
    "Train the model with domain adaptation. The following command includes all recommended parameters:"
   ]
  },
  {
   "cell_type": "code",
   "metadata": {},
   "source": [
    "!python train.py \\\n",
    "    --source-data dataset.yaml \\\n",
    "    --target-data dataset.yaml \\\n",
    "    --epochs 100 \\\n",
    "    --batch-size 16 \\\n",
    "    --img-size 640 \\\n",
    "    --device cuda \\\n",
    "    --workers 8 \\\n",
    "    --save-dir runs/train \\\n",
    "    --mixed-precision \\\n",
    "    --gradient-accumulation-steps 1 \\\n",
    "    --conf-thres 0.25 \\\n",
    "    --iou-thres 0.45 \\\n",
    "    --val-interval 5 \\\n",
    "    --chunk-size 1000"
   ],
   "execution_count": null,
   "outputs": []
  },
  {
   "cell_type": "markdown",
   "metadata": {},
   "source": [
    "## 6. Monitor Training\n",
    "\n",
    "Training progress will be saved in the `runs/train` directory. You can monitor:\n",
    "- Loss curves\n",
    "- mAP metrics\n",
    "- Domain adaptation progress\n",
    "\n",
    "The best model will be saved as `runs/train/best.pt`"
   ]
  },
  {
   "cell_type": "markdown",
   "metadata": {},
   "source": [
    "## 7. Expected Training Time\n",
    "\n",
    "Training time comparison with vanilla YOLOv8:\n",
    "- YOLOv8n (vanilla): 1x\n",
    "- YOLOv8n + CBAM: ~1.1-1.2x\n",
    "- YOLOv8n + DANN: ~1.3-1.5x\n",
    "- YOLOv8n + CBAM+DANN: ~1.5-2x\n",
    "\n",
    "For example, if vanilla YOLOv8 takes 1 hour per epoch, expect 1.5-2 hours per epoch with this model."
   ]
  },
  {
   "cell_type": "markdown",
   "metadata": {},
   "source": [
    "## 8. Troubleshooting\n",
    "\n",
    "Common issues and solutions:\n",
    "\n",
    "1. **Out of Memory (OOM):**\n",
    "   - Reduce batch size\n",
    "   - Reduce image size\n",
    "   - Increase gradient accumulation steps\n",
    "\n",
    "2. **Slow Training:**\n",
    "   - Enable mixed precision (`--mixed-precision`)\n",
    "   - Increase number of workers\n",
    "   - Use a smaller model (e.g., YOLOv8n)\n",
    "\n",
    "3. **Poor Domain Adaptation:**\n",
    "   - Adjust domain weight\n",
    "   - Check source and target data distributions\n",
    "   - Increase training epochs"
   ]
  }
 ],
 "metadata": {
  "kernelspec": {
   "display_name": "Python 3",
   "language": "python",
   "name": "python3"
  },
  "language_info": {
   "name": "python",
   "version": "3.8"
  }
 },
 "nbformat": 4,
 "nbformat_minor": 2
} 
